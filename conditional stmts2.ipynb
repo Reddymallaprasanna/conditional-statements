{
 "cells": [
  {
   "cell_type": "code",
   "execution_count": 1,
   "id": "3ddc5348-d834-4016-a340-f06806c7dd79",
   "metadata": {},
   "outputs": [
    {
     "name": "stdin",
     "output_type": "stream",
     "text": [
      "Enter any character: 4\n",
      "enter any character: r\n",
      "enter any character: t\n",
      "enter any character: e\n",
      "enter any character: H\n",
      "enter any character: 8\n",
      "enter any character: *\n"
     ]
    },
    {
     "name": "stdout",
     "output_type": "stream",
     "text": [
      "Lower case char: 3\n",
      "Upper case char: 1\n",
      "numbers char : 2\n"
     ]
    }
   ],
   "source": [
    "''' write a program to read the character untill * is entered .\n",
    "count the number of uppercase,lowercase, and numbers entered by the user'''\n",
    "ch=input(\"Enter any character:\")\n",
    "u=l=n=0\n",
    "if ch>='0' and ch<='9':\n",
    "    n+=1\n",
    "elif ch>='A' and ch<='Z':\n",
    "    u+=1\n",
    "elif ch>='a' and ch<='z':\n",
    "    l+=1\n",
    "while ch!='*':\n",
    "    ch=input(\"enter any character:\")\n",
    "    if ch>='0' and ch<='9':\n",
    "        n+=1\n",
    "    elif ch>='A' and ch<='Z':\n",
    "        u+=1\n",
    "    elif ch>='a' and ch<='z':\n",
    "        l+=1\n",
    "print(\"Lower case char:\",l)\n",
    "print(\"Upper case char:\",u)\n",
    "print(\"numbers char :\",n)\n"
   ]
  },
  {
   "cell_type": "code",
   "execution_count": null,
   "id": "0bb5a2d6-eeb8-472a-ba58-67be1aedaa22",
   "metadata": {},
   "outputs": [],
   "source": []
  }
 ],
 "metadata": {
  "kernelspec": {
   "display_name": "Python 3 (ipykernel)",
   "language": "python",
   "name": "python3"
  },
  "language_info": {
   "codemirror_mode": {
    "name": "ipython",
    "version": 3
   },
   "file_extension": ".py",
   "mimetype": "text/x-python",
   "name": "python",
   "nbconvert_exporter": "python",
   "pygments_lexer": "ipython3",
   "version": "3.12.7"
  }
 },
 "nbformat": 4,
 "nbformat_minor": 5
}
