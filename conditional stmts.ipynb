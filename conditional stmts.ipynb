{
 "cells": [
  {
   "cell_type": "code",
   "execution_count": 3,
   "id": "4ce3dc2d-6a90-4765-a06d-1702bcdd6afc",
   "metadata": {},
   "outputs": [
    {
     "name": "stdin",
     "output_type": "stream",
     "text": [
      "Enter the age of the person: 18\n"
     ]
    },
    {
     "name": "stdout",
     "output_type": "stream",
     "text": [
      "the person is eligible for voting\n"
     ]
    }
   ],
   "source": [
    "#checks if the person is eligible for voting or not\n",
    "#age>18\n",
    "age=int(input(\"Enter the age of the person:\"))\n",
    "if age>=18:\n",
    "    print(\"the person is eligible for voting\")\n",
    "else:\n",
    "    print(\"the person is not eligible for voting\")"
   ]
  },
  {
   "cell_type": "code",
   "execution_count": 55,
   "id": "4e47d658-7bf9-40e8-8dcb-86d60afd59d6",
   "metadata": {},
   "outputs": [
    {
     "name": "stdin",
     "output_type": "stream",
     "text": [
      "Press any key: 8\n"
     ]
    },
    {
     "name": "stdout",
     "output_type": "stream",
     "text": [
      "8 the user entered an integer\n",
      "8 the user entered an alpha numerical\n"
     ]
    }
   ],
   "source": [
    "#code to determine whether the entered input is integer or character or others\n",
    "inp=input(\"Press any key:\")\n",
    "if inp.isdigit():\n",
    "    print(inp,\"the user entered an integer\")\n",
    "if inp.isalpha():\n",
    "    print(inp,\"the user entered an character\")\n",
    "if inp.isspace():\n",
    "    print(inp,\"the user entered an space\")\n",
    "if inp.isalnum():\n",
    "    print(inp,\"the user entered an alpha numerical\")\n",
    "\n",
    "\n",
    "\n"
   ]
  },
  {
   "cell_type": "code",
   "execution_count": 27,
   "id": "70bc90b9-6bdc-491c-ae22-5b2c056e113b",
   "metadata": {},
   "outputs": [
    {
     "name": "stdin",
     "output_type": "stream",
     "text": [
      "enter a number: -99\n"
     ]
    },
    {
     "name": "stdout",
     "output_type": "stream",
     "text": [
      "-99 is negative\n"
     ]
    }
   ],
   "source": [
    "#to check the number is positive or not\n",
    "n=int(input(\"enter a number:\"))\n",
    "if n>0:\n",
    "    print(n,\"is positive\")\n",
    "if n<0:\n",
    "    print(n,\"is negative\")\n",
    "if n==0:\n",
    "    print(n,\"is a zero\")"
   ]
  },
  {
   "cell_type": "code",
   "execution_count": 45,
   "id": "249ef155-89ae-45bd-aa58-6294910a834b",
   "metadata": {},
   "outputs": [
    {
     "name": "stdin",
     "output_type": "stream",
     "text": [
      "enter a number: 222222222221\n"
     ]
    },
    {
     "name": "stdout",
     "output_type": "stream",
     "text": [
      "222222222221 is an odd number\n"
     ]
    }
   ],
   "source": [
    "#check the number is even or odd\n",
    "n=int(input(\"enter a number:\"))\n",
    "if n%2==0:\n",
    "    print(n,\"is an even number\")\n",
    "else:\n",
    "    print(n,\"is an odd number\")"
   ]
  },
  {
   "cell_type": "code",
   "execution_count": 69,
   "id": "0f7b86a5-655a-49cf-a63e-dcb4428b5039",
   "metadata": {},
   "outputs": [
    {
     "name": "stdin",
     "output_type": "stream",
     "text": [
      "enter any character from a to z k\n"
     ]
    },
    {
     "name": "stdout",
     "output_type": "stream",
     "text": [
      "the entered character is in lower case changing it to upper case-->K\n"
     ]
    }
   ],
   "source": [
    "''' program to enter any character if the entered character is in lower case change it into upper caseand viceversa'''\n",
    "cha=input(\"enter any character from a to z\")\n",
    "if cha>='A' and cha<='Z':\n",
    "    cha=cha.lower()\n",
    "    print('the entered character is in upper case changing it to lower case-->'+cha)\n",
    "else:\n",
    "    cha=cha.upper()\n",
    "    print('the entered character is in lower case changing it to upper case-->'+cha)"
   ]
  },
  {
   "cell_type": "code",
   "execution_count": 125,
   "id": "86c8cf22-f316-4d19-a7a1-0e819334f041",
   "metadata": {},
   "outputs": [
    {
     "name": "stdin",
     "output_type": "stream",
     "text": [
      "enter a number: 12\n"
     ]
    },
    {
     "name": "stdout",
     "output_type": "stream",
     "text": [
      "12 is in the  range  of 11-20 and a positive number\n"
     ]
    }
   ],
   "source": [
    "#code for checking the interval of a given number nested if-elif-else\n",
    "num=int(input(\"enter a number:\"))\n",
    "if num<0:\n",
    "    print(num,\"is negative number\")\n",
    "elif num>0 and num<=10:\n",
    "    print(num,\"is in range of 0-10 and a positive number\")\n",
    "elif num>10 and num <=20:\n",
    "    print(num,\"is in the  range  of 11-20 and a positive number\")\n",
    "elif num>20 and num<=30:\n",
    "    print(num,\"number is the range of 21-30 and a positive number\")\n",
    "elif num==0:\n",
    "    print(num,\"is equal to 0\")\n",
    "\n",
    "else:\n",
    "    print(num,\"number is out of range\")"
   ]
  },
  {
   "cell_type": "code",
   "execution_count": null,
   "id": "1097efdc-803b-4948-b72c-5c247c91ae45",
   "metadata": {},
   "outputs": [],
   "source": []
  }
 ],
 "metadata": {
  "kernelspec": {
   "display_name": "Python 3 (ipykernel)",
   "language": "python",
   "name": "python3"
  },
  "language_info": {
   "codemirror_mode": {
    "name": "ipython",
    "version": 3
   },
   "file_extension": ".py",
   "mimetype": "text/x-python",
   "name": "python",
   "nbconvert_exporter": "python",
   "pygments_lexer": "ipython3",
   "version": "3.12.7"
  }
 },
 "nbformat": 4,
 "nbformat_minor": 5
}
