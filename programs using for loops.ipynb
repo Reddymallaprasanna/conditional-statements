{
 "cells": [
  {
   "cell_type": "code",
   "execution_count": 1,
   "id": "ffdd17b5-8755-43cf-8a0e-fff734d962b6",
   "metadata": {},
   "outputs": [
    {
     "name": "stdout",
     "output_type": "stream",
     "text": [
      "cat\n",
      "dog\n",
      "fish\n"
     ]
    }
   ],
   "source": [
    "#list of strings\n",
    "s=['cat','dog','fish']\n",
    "for pet in s:\n",
    "    print(pet)"
   ]
  },
  {
   "cell_type": "code",
   "execution_count": 27,
   "id": "2f55b616-f185-4346-8153-4cecbb6c0728",
   "metadata": {},
   "outputs": [
    {
     "name": "stdin",
     "output_type": "stream",
     "text": [
      "enter the range of n: 10\n"
     ]
    },
    {
     "name": "stdout",
     "output_type": "stream",
     "text": [
      "1 2 3 4 5 6 7 8 9 10 10 9 8 7 6 5 4 3 2 1 "
     ]
    }
   ],
   "source": [
    "#for with in range\n",
    "n=int(input(\"enter the range of n:\"))\n",
    "for i in range(1,n+1):\n",
    "    print(i,end=' ')\n",
    "for i in range(n,0,-1):\n",
    "    print(i,end=' ')\n",
    "    "
   ]
  },
  {
   "cell_type": "code",
   "execution_count": 55,
   "id": "7f8a2cd2-c579-472f-95cb-fe9d7c14e931",
   "metadata": {},
   "outputs": [
    {
     "name": "stdin",
     "output_type": "stream",
     "text": [
      "Enter the value of n: 2\n"
     ]
    },
    {
     "name": "stdout",
     "output_type": "stream",
     "text": [
      "Multiplication table of  2\n",
      "*********************\n",
      "2 x 0 = 0\n",
      "2 x 1 = 2\n",
      "2 x 2 = 4\n",
      "2 x 3 = 6\n",
      "2 x 4 = 8\n",
      "2 x 5 = 10\n",
      "2 x 6 = 12\n",
      "2 x 7 = 14\n",
      "2 x 8 = 16\n",
      "2 x 9 = 18\n",
      "2 x 10 = 20\n"
     ]
    }
   ],
   "source": [
    "''' code for printing multiplication table of n,where n is entered by the user'''\n",
    "n=int(input(\"Enter the value of n:\"))\n",
    "print(\"Multiplication table of \",n)\n",
    "print(\"*********************\")\n",
    "for i in range(0,10+1):\n",
    "    print(n,\"x\",i,\"=\",n*i)\n",
    "   \n",
    "   "
   ]
  },
  {
   "cell_type": "code",
   "execution_count": 59,
   "id": "78a3d446-c6ba-44c0-9600-eb185fcc7088",
   "metadata": {
    "scrolled": true
   },
   "outputs": [
    {
     "name": "stdin",
     "output_type": "stream",
     "text": [
      "enter the starting year: 1900\n",
      "enter the ending year: 2101\n"
     ]
    },
    {
     "name": "stdout",
     "output_type": "stream",
     "text": [
      "1900 1904 1908 1912 1916 1920 1924 1928 1932 1936 1940 1944 1948 1952 1956 1960 1964 1968 1972 1976 1980 1984 1988 1992 1996 2000 2004 2008 2012 2016 2020 2024 2028 2032 2036 2040 2044 2048 2052 2056 2060 2064 2068 2072 2076 2080 2084 2088 2092 2096 2100 "
     ]
    }
   ],
   "source": [
    "# program to  display all leap years from 1900,2101\n",
    "st=int(input(\"enter the starting year:\"))\n",
    "ed=int(input(\"enter the ending year:\"))\n",
    "for i in range(st,ed+1):\n",
    "    if i%4==0:\n",
    "        print(i,end=' ')"
   ]
  },
  {
   "cell_type": "code",
   "execution_count": 77,
   "id": "8f191270-11c3-4556-abe0-0935580b923a",
   "metadata": {},
   "outputs": [
    {
     "name": "stdin",
     "output_type": "stream",
     "text": [
      "enter the range of n: 5\n"
     ]
    },
    {
     "name": "stdout",
     "output_type": "stream",
     "text": [
      "1.4636111111111112\n"
     ]
    }
   ],
   "source": [
    "n=int(input(\"enter the range of n:\"))\n",
    "s=0.0\n",
    "for i in range(1,n+1):\n",
    "    a=1/(i**2)\n",
    "    s+=a\n",
    "print(s)"
   ]
  },
  {
   "cell_type": "code",
   "execution_count": 171,
   "id": "afbf2241-c26e-4935-86aa-87a615483a5c",
   "metadata": {},
   "outputs": [
    {
     "name": "stdin",
     "output_type": "stream",
     "text": [
      "enter the starting day of the month(1-7) 5\n",
      "enter the number of days 30\n"
     ]
    },
    {
     "name": "stdout",
     "output_type": "stream",
     "text": [
      "Sun Mon Tue Wed Thu Fri Sat\n",
      "--------------------------------------\n",
      "                1  2  3  \n",
      "4  5  6  7  8  9  10  \n",
      "11  12  13  14  15  16  17  \n",
      "18  19  20  21  22  23  24  \n",
      "25  26  27  28  29  30  "
     ]
    }
   ],
   "source": [
    "#printing a calender using for looop\n",
    "#sd-starting day,nd=no.of days\n",
    "sd=int(input(\"enter the starting day of the month(1-7)\"))\n",
    "nd=int(input(\"enter the number of days\"))\n",
    "print(\"Sun Mon Tue Wed Thu Fri Sat\")\n",
    "print(\"--------------------------------------\")\n",
    "for i in range(sd-1):\n",
    "    print(end='    ')\n",
    "i=sd-1\n",
    "for j in range(1,nd+1):\n",
    "    if i>6:\n",
    "        print()\n",
    "        i=1\n",
    "    else:\n",
    "        i+=1\n",
    "    print(str(j)+\"  \",end=\"\")\n"
   ]
  },
  {
   "cell_type": "code",
   "execution_count": 183,
   "id": "6ac4b466-f0c7-497b-bb28-705b1601b5c0",
   "metadata": {},
   "outputs": [
    {
     "name": "stdout",
     "output_type": "stream",
     "text": [
      "Sun Mon Tue Wed Thu Fri Sat\n",
      "          1   2   3   4   5 \n",
      "  6   7   8   9  10  11  12 \n",
      " 13  14  15  16  17  18  19 \n",
      " 20  21  22  23  24  25  26 \n",
      " 27  28  29  30  31 "
     ]
    }
   ],
   "source": [
    "mdays=31\n",
    "sdays=2\n",
    "print(\"Sun Mon Tue Wed Thu Fri Sat\")\n",
    "for _ in range(sdays):\n",
    "    print(\"  \",end='  ')\n",
    "for days in range(1,mdays+1):\n",
    "    print(f\"{days: >3}\",end=' ')\n",
    "    if(sdays+days)%7==0:\n",
    "        print()"
   ]
  },
  {
   "cell_type": "code",
   "execution_count": null,
   "id": "6a3f1a15-84ec-4276-b30e-306b3870d434",
   "metadata": {},
   "outputs": [],
   "source": []
  }
 ],
 "metadata": {
  "kernelspec": {
   "display_name": "Python 3 (ipykernel)",
   "language": "python",
   "name": "python3"
  },
  "language_info": {
   "codemirror_mode": {
    "name": "ipython",
    "version": 3
   },
   "file_extension": ".py",
   "mimetype": "text/x-python",
   "name": "python",
   "nbconvert_exporter": "python",
   "pygments_lexer": "ipython3",
   "version": "3.12.7"
  }
 },
 "nbformat": 4,
 "nbformat_minor": 5
}
